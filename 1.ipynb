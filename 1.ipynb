{
 "cells": [
  {
   "cell_type": "markdown",
   "metadata": {},
   "source": []
  },
  {
   "cell_type": "markdown",
   "metadata": {},
   "source": [
    "https://spark.apache.org/\n",
    "<a id='2'></a>\n",
    "### 第2章 Spark及其生态圈概述\n",
    "### 2.2. Spark 概述及特点\n",
    "分布式计算框架\n",
    "相比hadoop速度快很多\n",
    " <img src='https://spark.apache.org/images/logistic-regression.png' >\n",
    "### 2.2. Spark 产生背景\n",
    "* mapreduce的局限性\n",
    "  * 代码繁琐\n",
    "  * 只能支持map和reduce操作\n",
    "  * 执行效率低下\n",
    "  * 不适合迭代多次、交互式、流式的处理\n",
    "* 框架多样化\n",
    "  * 批处理（离线）：MapReduce，Hive，Pig\n",
    "  * 流式处理（实时）：storm，jstom\n",
    "  * 交互式计算：Impala   \n",
    "  \n",
    "> 框架多样化，导致需要多态集群，学习运维成本高\n",
    "\n",
    "### 2.4. Spark发展历史\n",
    "<img src='img/Spark发展历史.png'，width='66%'>\n",
    "### 2.6. Spark 对比 Hadoop\n",
    "### 2.7. "
   ]
  },
  {
   "cell_type": "code",
   "execution_count": null,
   "metadata": {},
   "outputs": [],
   "source": []
  }
 ],
 "metadata": {
  "kernelspec": {
   "display_name": "Python 3",
   "language": "python",
   "name": "python3"
  },
  "language_info": {
   "codemirror_mode": {
    "name": "ipython",
    "version": 3
   },
   "file_extension": ".py",
   "mimetype": "text/x-python",
   "name": "python",
   "nbconvert_exporter": "python",
   "pygments_lexer": "ipython3",
   "version": "3.6.4"
  }
 },
 "nbformat": 4,
 "nbformat_minor": 2
}
