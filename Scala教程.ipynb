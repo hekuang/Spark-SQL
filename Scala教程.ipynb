{
 "cells": [
  {
   "cell_type": "markdown",
   "metadata": {},
   "source": [
    "<a id = \"0\"> </a>\n",
    "## 目录\n",
    "- [1.基础语法](#1)"
   ]
  },
  {
   "cell_type": "markdown",
   "metadata": {},
   "source": [
    "<a id = \"1\"></a>\n",
    "# [1.基础语法](#0)\n",
    "\n",
    "### 1.1.变量\n",
    "> 可以不显示的指定变量类型,Scala会自动进行类型推导\n",
    "- val 定义常量Immutable variable\n",
    "- var 定义变量mutable variable\n",
    "- lazy val定义惰性求值常量"
   ]
  },
  {
   "cell_type": "code",
   "execution_count": 1,
   "metadata": {
    "collapsed": true
   },
   "outputs": [
    {
     "ename": "NameError",
     "evalue": "name 'scala' is not defined",
     "output_type": "error",
     "traceback": [
      "\u001b[1;31m---------------------------------------------------------------------------\u001b[0m",
      "\u001b[1;31mNameError\u001b[0m                                 Traceback (most recent call last)",
      "\u001b[1;32m<ipython-input-1-f39861b944af>\u001b[0m in \u001b[0;36m<module>\u001b[1;34m()\u001b[0m\n\u001b[1;32m----> 1\u001b[1;33m \u001b[0mscala\u001b[0m\u001b[1;33m\u001b[0m\u001b[0m\n\u001b[0m",
      "\u001b[1;31mNameError\u001b[0m: name 'scala' is not defined"
     ]
    }
   ],
   "source": [
    "\n",
    "scala> val x = 10\n",
    "x: Int = 10\n",
    "\n",
    "scala> val y:Int = 20\n",
    "y: Int = 20\n",
    "\n",
    "scala> x +x\n",
    "res0: Int = 20\n",
    "\n",
    "scala> res0\n",
    "res1: Int = 20\n"
   ]
  },
  {
   "cell_type": "markdown",
   "metadata": {},
   "source": [
    "### 1.2. Scala 类型体系\n",
    "<img src = \"./img/Scala类型体系.png\" width = \"788%\">\n"
   ]
  },
  {
   "cell_type": "code",
   "execution_count": null,
   "metadata": {},
   "outputs": [],
   "source": [
    "scala> val name = \"hekuang\"\n",
    "name: String = hekuang\n",
    "    \n",
    "# 小写s标记\n",
    "scala> s\"my name is ${name}\"\n",
    "res4: String = my name is hekuang\n",
    "\n"
   ]
  },
  {
   "cell_type": "markdown",
   "metadata": {},
   "source": [
    "### 1.3.函数与代码块\n",
    "- 代码块\n",
    "\n",
    "`{exp1;exp2}`\n",
    "或者如下,不需要分号\n",
    "```\n",
    "{\n",
    "exp1\n",
    "exp2\n",
    "}\n",
    "```\n",
    "- 函数\n",
    "\n",
    "```\n",
    "def functionName(param:ParamType):ReturnType = {\n",
    "//function body:experssions\n",
    "}\n",
    "```\n"
   ]
  },
  {
   "cell_type": "code",
   "execution_count": null,
   "metadata": {},
   "outputs": [],
   "source": [
    "\n",
    "object worksheet_hekuang{\n",
    "\n",
    "  def hello(name:String):String= {\n",
    "    s\"Hello,${name}\"\n",
    "  }\n",
    "  hello(\"hekuang\")\n",
    "\n",
    "  // 省略返回值类型\n",
    "\n",
    "  def hello2(name: String) = {\n",
    "    s\"Hello,${name}\"\n",
    "  }\n",
    "  hello2(\"hekuang2\")\n",
    "\n",
    "  def add(x:Int, y:Int) = x + y\n",
    "  add(2,7)\n",
    "}"
   ]
  },
  {
   "cell_type": "markdown",
   "metadata": {},
   "source": [
    "### 1.4.if和for\n",
    "\n",
    "#### if\n",
    "` if (logic_exp)valA else valB`\n",
    "\n",
    "#### for comprehension\n",
    "\n",
    "```\n",
    "for {\n",
    "    x <- xs\n",
    "    y = x + 1\n",
    "    if (y>0)\n",
    "   }yield y\n",
    "   \n",
    "```\n",
    "```\n",
    " val list = List(\"alice\",\"bob\",\"cathy\")\n",
    "  for (\n",
    "    s <- list\n",
    "  )\n",
    "    println(s)\n",
    "```\n",
    "\n",
    "### 1.5. try 和 match 表达式\n",
    "\n",
    "#### try\n",
    "\n",
    "```\n",
    "try{\n",
    "    Integer.parseInt(\"dog\")\n",
    "   }cathc {\n",
    "   // \"_\"通配符,所有异常都能catch,然后返回0\n",
    "   case _=> 0\n",
    "  }finally{\n",
    "   println(\"always be printed\")\n",
    "   }\n",
    "   \n",
    "   \n",
    "```\n",
    "\n",
    "#### match\n",
    "类似switch\n",
    "\n",
    "``` \n",
    "exp match{\n",
    "case p1 => val1\n",
    "case p2 => val2\n",
    "...\n",
    "case _=> val n\n",
    "\n",
    "}\n",
    "``` \n"
   ]
  },
  {
   "cell_type": "code",
   "execution_count": null,
   "metadata": {},
   "outputs": [],
   "source": []
  },
  {
   "cell_type": "code",
   "execution_count": null,
   "metadata": {},
   "outputs": [],
   "source": []
  },
  {
   "cell_type": "code",
   "execution_count": null,
   "metadata": {},
   "outputs": [],
   "source": []
  },
  {
   "cell_type": "code",
   "execution_count": null,
   "metadata": {},
   "outputs": [],
   "source": []
  },
  {
   "cell_type": "code",
   "execution_count": null,
   "metadata": {},
   "outputs": [],
   "source": []
  },
  {
   "cell_type": "code",
   "execution_count": null,
   "metadata": {},
   "outputs": [],
   "source": []
  },
  {
   "cell_type": "code",
   "execution_count": null,
   "metadata": {},
   "outputs": [],
   "source": []
  },
  {
   "cell_type": "code",
   "execution_count": null,
   "metadata": {},
   "outputs": [],
   "source": []
  },
  {
   "cell_type": "code",
   "execution_count": null,
   "metadata": {},
   "outputs": [],
   "source": []
  },
  {
   "cell_type": "code",
   "execution_count": null,
   "metadata": {},
   "outputs": [],
   "source": []
  },
  {
   "cell_type": "code",
   "execution_count": null,
   "metadata": {},
   "outputs": [],
   "source": []
  }
 ],
 "metadata": {
  "kernelspec": {
   "display_name": "Python 3",
   "language": "python",
   "name": "python3"
  },
  "language_info": {
   "codemirror_mode": {
    "name": "ipython",
    "version": 3
   },
   "file_extension": ".py",
   "mimetype": "text/x-python",
   "name": "python",
   "nbconvert_exporter": "python",
   "pygments_lexer": "ipython3",
   "version": "3.6.4"
  }
 },
 "nbformat": 4,
 "nbformat_minor": 2
}
