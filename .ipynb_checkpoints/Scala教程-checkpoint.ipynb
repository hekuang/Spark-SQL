{
 "cells": [
  {
   "cell_type": "markdown",
   "metadata": {},
   "source": [
    "<a id = \"0\"> </a>\n",
    "## 目录\n",
    "- [1.基础语法](#1)"
   ]
  },
  {
   "cell_type": "markdown",
   "metadata": {},
   "source": [
    "<a id = \"1\"></a>\n",
    "# [1.基础语法](#0)\n",
    "\n",
    "### 1.1.变量\n",
    "> 可以不显示的指定变量类型,Scala会自动进行类型推导\n",
    "- val 定义常量Immutable variable\n",
    "- var 定义变量mutable variable\n",
    "- lazy val定义惰性求值常量"
   ]
  },
  {
   "cell_type": "code",
   "execution_count": null,
   "metadata": {},
   "outputs": [],
   "source": []
  }
 ],
 "metadata": {
  "kernelspec": {
   "display_name": "Python 3",
   "language": "python",
   "name": "python3"
  },
  "language_info": {
   "codemirror_mode": {
    "name": "ipython",
    "version": 3
   },
   "file_extension": ".py",
   "mimetype": "text/x-python",
   "name": "python",
   "nbconvert_exporter": "python",
   "pygments_lexer": "ipython3",
   "version": "3.6.4"
  }
 },
 "nbformat": 4,
 "nbformat_minor": 2
}
